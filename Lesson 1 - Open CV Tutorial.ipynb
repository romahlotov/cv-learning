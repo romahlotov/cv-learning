{
 "cells": [
  {
   "cell_type": "code",
   "execution_count": 3,
   "outputs": [],
   "source": [
    "# https://tproger.ru/translations/opencv-python-guide/#crop\n",
    "# https://habr.com/ru/post/539228/"
   ],
   "metadata": {
    "collapsed": false,
    "pycharm": {
     "name": "#%%\n"
    }
   }
  },
  {
   "cell_type": "code",
   "execution_count": 4,
   "outputs": [],
   "source": [
    "import cv2 as cv"
   ],
   "metadata": {
    "collapsed": false,
    "pycharm": {
     "name": "#%%\n"
    }
   }
  },
  {
   "cell_type": "code",
   "execution_count": 5,
   "metadata": {
    "pycharm": {
     "name": "#%%\n"
    }
   },
   "outputs": [
    {
     "data": {
      "text/plain": "array([[[ 56,  54,  66],\n        [ 56,  54,  66],\n        [ 56,  54,  66],\n        ...,\n        [ 68,  45,  29],\n        [ 68,  45,  29],\n        [ 68,  45,  29]],\n\n       [[ 56,  54,  66],\n        [ 56,  54,  66],\n        [ 56,  54,  66],\n        ...,\n        [ 68,  45,  29],\n        [ 68,  45,  29],\n        [ 68,  45,  29]],\n\n       [[ 56,  54,  66],\n        [ 56,  54,  66],\n        [ 56,  54,  66],\n        ...,\n        [ 68,  45,  29],\n        [ 68,  45,  29],\n        [ 68,  45,  29]],\n\n       ...,\n\n       [[  5,  24,  27],\n        [  5,  24,  27],\n        [  5,  24,  27],\n        ...,\n        [141, 132, 145],\n        [141, 132, 145],\n        [141, 132, 145]],\n\n       [[  5,  24,  27],\n        [  5,  24,  27],\n        [  5,  24,  27],\n        ...,\n        [141, 132, 145],\n        [141, 132, 145],\n        [141, 132, 145]],\n\n       [[  5,  24,  27],\n        [  5,  24,  27],\n        [  5,  24,  27],\n        ...,\n        [141, 132, 145],\n        [141, 132, 145],\n        [141, 132, 145]]], dtype=uint8)"
     },
     "execution_count": 5,
     "metadata": {},
     "output_type": "execute_result"
    }
   ],
   "source": [
    "# Открыть цветное изображение\n",
    "# Цветное изображение представляется в формате трёхмерного массива (строка, столбец, цветовой канал)\n",
    "# Значение на пересечении трёх этих осей соответствует интенсивности или выраженности цветового канала\n",
    "I = cv.imread('source/sample.jpg', cv.IMREAD_UNCHANGED)\n",
    "I"
   ]
  },
  {
   "cell_type": "code",
   "execution_count": 6,
   "outputs": [
    {
     "data": {
      "text/plain": "(1669, 2500, 3)"
     },
     "execution_count": 6,
     "metadata": {},
     "output_type": "execute_result"
    }
   ],
   "source": [
    "# Получить размеры изображения\n",
    "# (Высота изображения, ширина изображение, количество цветовых каналов)\n",
    "IDimensions = I.shape\n",
    "IDimensions"
   ],
   "metadata": {
    "collapsed": false,
    "pycharm": {
     "name": "#%%\n"
    }
   }
  },
  {
   "cell_type": "code",
   "execution_count": 7,
   "outputs": [],
   "source": [
    "# Отображение изображения\n",
    "cv.namedWindow(\"Sample\", cv.WINDOW_NORMAL)\n",
    "cv.imshow(\"Sample\", I)\n",
    "cv.waitKey(0)\n",
    "cv.destroyAllWindows()"
   ],
   "metadata": {
    "collapsed": false,
    "pycharm": {
     "name": "#%%\n"
    }
   }
  },
  {
   "cell_type": "code",
   "execution_count": 8,
   "outputs": [],
   "source": [
    "##########################################################################\n",
    "# Изменение размеров изображения                                         #\n",
    "# https://www.tutorialkart.com/opencv/python/opencv-python-resize-image/ #\n",
    "##########################################################################"
   ],
   "metadata": {
    "collapsed": false,
    "pycharm": {
     "name": "#%%\n"
    }
   }
  },
  {
   "cell_type": "code",
   "execution_count": 9,
   "outputs": [
    {
     "name": "stdout",
     "output_type": "stream",
     "text": [
      "Original dimensions:  (1669, 2500, 3)\n",
      "Resized dimensions:  (3338, 5000, 3)\n"
     ]
    }
   ],
   "source": [
    "# Пропорционально уменьшить / увеличить размера изображения\n",
    "scale_percent = 2\n",
    "width = int(IDimensions[1] * scale_percent)\n",
    "height = int(IDimensions[0] * scale_percent)\n",
    "\n",
    "IResized = cv.resize(I, (width, height), interpolation=cv.INTER_AREA)\n",
    "\n",
    "IResizedDimensions = IResized.shape\n",
    "print(\"Original dimensions: \", IDimensions)\n",
    "print(\"Resized dimensions: \", IResizedDimensions)\n",
    "\n",
    "cv.namedWindow(\"Sample-Resized\", cv.WINDOW_NORMAL)\n",
    "cv.imshow(\"Sample-Resized\", IResized)\n",
    "cv.waitKey(0)\n",
    "cv.destroyAllWindows()"
   ],
   "metadata": {
    "collapsed": false,
    "pycharm": {
     "name": "#%%\n"
    }
   }
  },
  {
   "cell_type": "code",
   "execution_count": 10,
   "outputs": [
    {
     "name": "stdout",
     "output_type": "stream",
     "text": [
      "Original dimensions:  (1669, 2500, 3)\n",
      "Resized dimensions:  (150, 200, 3)\n"
     ]
    }
   ],
   "source": [
    "# Изменить размеры изображения на заданные величины\n",
    "height = 150\n",
    "width = 200\n",
    "\n",
    "IResized = cv.resize(I, (width, height), interpolation=cv.INTER_AREA)\n",
    "\n",
    "IResizedDimensions = IResized.shape\n",
    "print(\"Original dimensions: \", IDimensions)\n",
    "print(\"Resized dimensions: \", IResizedDimensions)\n",
    "\n",
    "cv.namedWindow(\"Sample-Resized\", cv.WINDOW_NORMAL)\n",
    "cv.imshow(\"Sample-Resized\", IResized)\n",
    "cv.waitKey(0)\n",
    "cv.destroyAllWindows()"
   ],
   "metadata": {
    "collapsed": false,
    "pycharm": {
     "name": "#%%\n"
    }
   }
  },
  {
   "cell_type": "code",
   "execution_count": 11,
   "outputs": [
    {
     "name": "stdout",
     "output_type": "stream",
     "text": [
      "Original dimensions:  (1669, 2500, 3)\n",
      "Resized dimensions:  (750, 950, 3)\n"
     ]
    }
   ],
   "source": [
    "# Кадрирование изображения\n",
    "ICropped = I[0:750, 50:1000]\n",
    "\n",
    "ICroppedDimensions = ICropped.shape\n",
    "print(\"Original dimensions: \", IDimensions)\n",
    "print(\"Resized dimensions: \", ICroppedDimensions)\n",
    "\n",
    "cv.namedWindow(\"Sample-Cropped\", cv.WINDOW_NORMAL)\n",
    "cv.imshow(\"Sample-Cropped\", ICropped)\n",
    "cv.waitKey(0)\n",
    "cv.destroyAllWindows()"
   ],
   "metadata": {
    "collapsed": false,
    "pycharm": {
     "name": "#%%\n"
    }
   }
  },
  {
   "cell_type": "code",
   "execution_count": 12,
   "outputs": [],
   "source": [
    "# Поворот изображения\n",
    "# getRotationMatrix2D(центр изображения, угол поворота, направление поворота) - возвращает матрицу поворота\n",
    "(h, w, d) = I.shape\n",
    "center = (w // 2, h // 2)\n",
    "\n",
    "M = cv.getRotationMatrix2D(center, 90, -1.0)\n",
    "IRotated = cv.warpAffine(I, M, (w, h))\n",
    "\n",
    "cv.namedWindow(\"Sample-Rotated\", cv.WINDOW_NORMAL)\n",
    "cv.imshow(\"Sample-Rotated\", IRotated)\n",
    "cv.waitKey(0)\n",
    "cv.destroyAllWindows()"
   ],
   "metadata": {
    "collapsed": false,
    "pycharm": {
     "name": "#%%\n"
    }
   }
  },
  {
   "cell_type": "code",
   "execution_count": 13,
   "outputs": [],
   "source": [
    "##########################################################################\n",
    "# Работа с пороговыми значениями цвета изображения                       #\n",
    "# https://www.tutorialkart.com/opencv/python/opencv-python-resize-image/ #\n",
    "##########################################################################"
   ],
   "metadata": {
    "collapsed": false,
    "pycharm": {
     "name": "#%%\n"
    }
   }
  },
  {
   "cell_type": "code",
   "execution_count": 14,
   "outputs": [],
   "source": [
    "# Изображение в черно-белый\n",
    "IGray = cv.cvtColor(I, cv.COLOR_BGR2GRAY)\n",
    "\n",
    "cv.namedWindow(\"Sample-Gray\", cv.WINDOW_NORMAL)\n",
    "cv.imshow(\"Sample-Gray\", IGray)\n",
    "cv.waitKey(0)\n",
    "cv.destroyAllWindows()"
   ],
   "metadata": {
    "collapsed": false,
    "pycharm": {
     "name": "#%%\n"
    }
   }
  },
  {
   "cell_type": "code",
   "execution_count": 15,
   "outputs": [],
   "source": [
    "# Изображение в два цвета\n",
    "ret, IThreshold = cv.threshold(IGray, 127, 255, 0)\n",
    "\n",
    "cv.namedWindow(\"Sample-WhiteBlack\", cv.WINDOW_NORMAL)\n",
    "cv.imshow(\"Sample-WhiteBlack\", IThreshold)\n",
    "cv.waitKey(0)\n",
    "cv.destroyAllWindows()"
   ],
   "metadata": {
    "collapsed": false,
    "pycharm": {
     "name": "#%%\n"
    }
   }
  },
  {
   "cell_type": "code",
   "execution_count": 16,
   "outputs": [],
   "source": [
    "###################################################################\n",
    "# Размытие изображения                                            #\n",
    "# https://docs.opencv.org/3.1.0/d4/d13/tutorial_py_filtering.html #\n",
    "###################################################################"
   ],
   "metadata": {
    "collapsed": false,
    "pycharm": {
     "name": "#%%\n"
    }
   }
  },
  {
   "cell_type": "code",
   "execution_count": 17,
   "outputs": [],
   "source": [
    "# Размытие изображения по Гауссу\n",
    "# Кортеж обозначает силу размытия\n",
    "IBlurred = cv.GaussianBlur(I, (51, 51), 0)\n",
    "\n",
    "cv.namedWindow(\"Sample-Blurred\", cv.WINDOW_NORMAL)\n",
    "cv.imshow(\"Sample-Blurred\", IBlurred)\n",
    "cv.waitKey(0)\n",
    "cv.destroyAllWindows()"
   ],
   "metadata": {
    "collapsed": false,
    "pycharm": {
     "name": "#%%\n"
    }
   }
  },
  {
   "cell_type": "code",
   "execution_count": 18,
   "outputs": [],
   "source": [
    "# Нарисовать на изображении объекты\n",
    "IPaint = I.copy()\n",
    "\n",
    "# Прямоугольник\n",
    "cv.rectangle(IPaint, (50, 50), (500, 750), (255, 0, 255), 6)\n",
    "\n",
    "# Прямая\n",
    "cv.line(IPaint, (120, 229), (354, 333), (255, 255, 0), 3)\n",
    "\n",
    "# Текст\n",
    "cv.putText(IPaint, \"OpenCV\", (250, 250), cv.FONT_HERSHEY_SIMPLEX, 2, (0, 255, 255), 3)\n",
    "\n",
    "cv.namedWindow(\"Sample-Paint\", cv.WINDOW_NORMAL)\n",
    "cv.imshow(\"Sample-Paint\", IPaint)\n",
    "cv.waitKey(0)\n",
    "cv.destroyAllWindows()"
   ],
   "metadata": {
    "collapsed": false,
    "pycharm": {
     "name": "#%%\n"
    }
   }
  },
  {
   "cell_type": "code",
   "execution_count": 19,
   "outputs": [
    {
     "name": "stdout",
     "output_type": "stream",
     "text": [
      "Красный: 66, Зелёный: 54, Синий: 56\n"
     ]
    }
   ],
   "source": [
    "# Получение кортежа с цвета заданного пикселя\n",
    "(b, g, r) = I[0, 0]\n",
    "print(\"Красный: {}, Зелёный: {}, Синий: {}\".format(r, g, b))"
   ],
   "metadata": {
    "collapsed": false,
    "pycharm": {
     "name": "#%%\n"
    }
   }
  },
  {
   "cell_type": "code",
   "execution_count": 20,
   "outputs": [],
   "source": [
    "# Разделение изображения на каналы\n",
    "(IBlue, IGreen, IRed) = cv.split(I)\n",
    "\n",
    "cv.namedWindow(\"Sample-Red\", cv.WINDOW_NORMAL)\n",
    "cv.imshow(\"Sample-Red\", IRed)\n",
    "cv.waitKey(0)\n",
    "cv.destroyAllWindows()\n",
    "\n",
    "cv.namedWindow(\"Sample-Green\", cv.WINDOW_NORMAL)\n",
    "cv.imshow(\"Sample-Green\", IGreen)\n",
    "cv.waitKey(0)\n",
    "cv.destroyAllWindows()\n",
    "\n",
    "cv.namedWindow(\"Sample-Blue\", cv.WINDOW_NORMAL)\n",
    "cv.imshow(\"Sample-Blue\", IBlue)\n",
    "cv.waitKey(0)\n",
    "cv.destroyAllWindows()"
   ],
   "metadata": {
    "collapsed": false,
    "pycharm": {
     "name": "#%%\n"
    }
   }
  },
  {
   "cell_type": "code",
   "execution_count": 28,
   "outputs": [],
   "source": [
    "# Объединение каналов изображения\n",
    "IGreenZero = IBlue.copy()\n",
    "IGreenZero.fill(0)\n",
    "IMergeRedBlue = cv.merge([IBlue, IGreenZero, IRed])\n",
    "cv.namedWindow(\"Sample-Merge-Blue-Red\", cv.WINDOW_NORMAL)\n",
    "cv.imshow(\"Sample-Merge-Blue-Red\", IMergeRedBlue)\n",
    "cv.waitKey(0)\n",
    "cv.destroyAllWindows()\n",
    "\n",
    "IBlueZero = IBlue.copy()\n",
    "IBlueZero.fill(0)\n",
    "IMergeRedGreen = cv.merge([IBlueZero, IGreen, IRed])\n",
    "cv.namedWindow(\"Sample-Merge-Green-Red\", cv.WINDOW_NORMAL)\n",
    "cv.imshow(\"Sample-Merge-Green-Red\", IMergeRedGreen)\n",
    "cv.waitKey(0)\n",
    "cv.destroyAllWindows()\n",
    "\n",
    "IRedZero = IBlue.copy()\n",
    "IRedZero.fill(0)\n",
    "IMergeGreenBlue = cv.merge([IBlue, IGreen, IRedZero])\n",
    "cv.namedWindow(\"Sample-Merge-Blue-Green\", cv.WINDOW_NORMAL)\n",
    "cv.imshow(\"Sample-Merge-Blue-Green\", IMergeGreenBlue)\n",
    "cv.waitKey(0)\n",
    "cv.destroyAllWindows()\n",
    "\n",
    "IMergeRedGreenBlue = cv.merge([IBlue, IGreen, IRed])\n",
    "cv.namedWindow(\"Sample-Merge-Blue-Green-Red\", cv.WINDOW_NORMAL)\n",
    "cv.imshow(\"Sample-Merge-Blue-Green-Red\", IMergeRedGreenBlue)\n",
    "cv.waitKey(0)\n",
    "cv.destroyAllWindows()\n",
    "\n",
    "cv.namedWindow(\"Sample-Original\", cv.WINDOW_NORMAL)\n",
    "cv.imshow(\"Sample-Original\", I)\n",
    "cv.waitKey(0)\n",
    "cv.destroyAllWindows()"
   ],
   "metadata": {
    "collapsed": false,
    "pycharm": {
     "name": "#%%\n"
    }
   }
  },
  {
   "cell_type": "code",
   "execution_count": null,
   "outputs": [],
   "source": [],
   "metadata": {
    "collapsed": false,
    "pycharm": {
     "name": "#%%\n"
    }
   }
  }
 ],
 "metadata": {
  "kernelspec": {
   "display_name": "Python 3 (ipykernel)",
   "language": "python",
   "name": "python3"
  },
  "language_info": {
   "codemirror_mode": {
    "name": "ipython",
    "version": 3
   },
   "file_extension": ".py",
   "mimetype": "text/x-python",
   "name": "python",
   "nbconvert_exporter": "python",
   "pygments_lexer": "ipython3",
   "version": "3.9.0"
  }
 },
 "nbformat": 4,
 "nbformat_minor": 1
}