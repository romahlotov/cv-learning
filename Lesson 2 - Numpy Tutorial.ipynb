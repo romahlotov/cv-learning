{
 "cells": [
  {
   "cell_type": "code",
   "execution_count": null,
   "outputs": [],
   "source": [
    "# https://habr.com/ru/company/skillfactory/blog/564240/"
   ],
   "metadata": {
    "collapsed": false,
    "pycharm": {
     "name": "#%%\n"
    }
   }
  },
  {
   "cell_type": "code",
   "execution_count": 2,
   "outputs": [],
   "source": [
    "import numpy as np"
   ],
   "metadata": {
    "collapsed": false,
    "pycharm": {
     "name": "#%%\n"
    }
   }
  },
  {
   "cell_type": "code",
   "execution_count": 45,
   "outputs": [
    {
     "name": "stdout",
     "output_type": "stream",
     "text": [
      "[1 2 3]\n",
      "[0. 0. 0.]\n",
      "[1. 1. 1.]\n",
      "[3 3 3]\n",
      "[0.06713618 0.33876512 0.52059965]\n"
     ]
    }
   ],
   "source": [
    "# Создание одномерного массива\n",
    "\n",
    "# С указанием значения\n",
    "a = np.array([1, 2, 3])\n",
    "print(a)\n",
    "\n",
    "# С указанием длины и заполненного нулями\n",
    "aZero = np.zeros(3)\n",
    "print(aZero)\n",
    "\n",
    "# С указанием длины и заполненного единицами\n",
    "aOne = np.ones(3)\n",
    "print(aOne)\n",
    "\n",
    "# С указанием длины и заданным значением\n",
    "aOne = np.full(3, 3)\n",
    "print(aOne)\n",
    "\n",
    "# С указанием длины и заполненного случайными значениями\n",
    "aRandom = np.random.random(3)\n",
    "print(aRandom)"
   ],
   "metadata": {
    "collapsed": false,
    "pycharm": {
     "name": "#%%\n"
    }
   }
  },
  {
   "cell_type": "code",
   "execution_count": 4,
   "outputs": [
    {
     "name": "stdout",
     "output_type": "stream",
     "text": [
      "Сумма массивов  [ 1  2  4  8 16]  и  [1. 1. 1. 1. 1.]  =  [ 2.  3.  5.  9. 17.]\n",
      "Разница массивов  [ 1  2  4  8 16]  и  [1. 1. 1. 1. 1.]  =  [ 0.  1.  3.  7. 15.]\n",
      "Произведение массивов  [ 2.  3.  5.  9. 17.]  и  [ 0.  1.  3.  7. 15.]  =  [  0.   3.  15.  63. 255.]\n",
      "Отношение массивов  [  0.   3.  15.  63. 255.]  и  [ 1  2  4  8 16]  =  [ 0.      1.5     3.75    7.875  15.9375]\n",
      "Сумма  [ 1  2  4  8 16]  и 2 =  [ 3  4  6 10 18]\n",
      "Разница  [ 3  4  6 10 18]  и 1 =  [ 2  3  5  9 17]\n",
      "Произведение  [ 1  2  4  8 16]  и 2 =  [ 2  4  8 16 32]\n",
      "Отношение  [ 1  2  4  8 16]  и 2 =  [0.5 1.  2.  4.  8. ]\n"
     ]
    }
   ],
   "source": [
    "# Арифметические операции с одномерным массивом\n",
    "a1 = np.array([1, 2, 4, 8, 16])\n",
    "a2 = np.ones(np.size(a1))\n",
    "\n",
    "# Сложение двух массивов\n",
    "aAddition = a1 + a2\n",
    "print(\"Сумма массивов \", a1, \" и \", a2, \" = \", aAddition)\n",
    "\n",
    "# Вычитание двух массивов\n",
    "aSubtraction = a1 - a2\n",
    "print(\"Разница массивов \", a1, \" и \", a2, \" = \", aSubtraction)\n",
    "\n",
    "# Произведение двух массивов\n",
    "aMultiplication = aAddition * aSubtraction\n",
    "print(\"Произведение массивов \", aAddition, \" и \", aSubtraction, \" = \", aMultiplication)\n",
    "\n",
    "# Деление двух массивов\n",
    "aDivision =  aMultiplication / a1\n",
    "print(\"Отношение массивов \", aMultiplication, \" и \", a1, \" = \", aDivision)\n",
    "\n",
    "# Добавление к массиву числа\n",
    "aAddNum = a1 + 2\n",
    "print(\"Сумма \", a1, \" и 2 = \", aAddNum)\n",
    "\n",
    "# Вычитание из массива числа\n",
    "aSubtractNum = aAddNum - 1\n",
    "print(\"Разница \", aAddNum, \" и 1 = \", aSubtractNum)\n",
    "\n",
    "# Умножение массива на число\n",
    "aMultiplyNum = a1 * 2\n",
    "print(\"Произведение \", a1, \" и 2 = \", aMultiplyNum)\n",
    "\n",
    "# Деление массива на число\n",
    "aDivisionNum = a1 / 2\n",
    "print(\"Отношение \", a1, \" и 2 = \", aDivisionNum)"
   ],
   "metadata": {
    "collapsed": false,
    "pycharm": {
     "name": "#%%\n"
    }
   }
  },
  {
   "cell_type": "code",
   "execution_count": 44,
   "outputs": [
    {
     "name": "stdout",
     "output_type": "stream",
     "text": [
      "[2 9 0 4 3 8 8 2 5 9]\n",
      "0\n",
      "[2 9]\n",
      "[0 4 3 8 8 2 5 9]\n",
      "[0 4]\n",
      "[9 3 2]\n"
     ]
    }
   ],
   "source": [
    "# Индексирование в одномерном массиве\n",
    "a = np.random.randint(low=0, high=10, size=10)\n",
    "print(a)\n",
    "\n",
    "# Получить 3 элемент\n",
    "print(a[2])\n",
    "\n",
    "# Получить первые 2 элемента\n",
    "print(a[:2])\n",
    "\n",
    "# Получить все элементы, начиная с 3\n",
    "print(a[2:])\n",
    "\n",
    "# Получить элементы с 3 по 4\n",
    "print(a[2:4])\n",
    "\n",
    "# Получить все элементы с 1 по 9 с шагом 3\n",
    "print(a[1:9:3])"
   ],
   "metadata": {
    "collapsed": false,
    "pycharm": {
     "name": "#%%\n"
    }
   }
  },
  {
   "cell_type": "code",
   "execution_count": 11,
   "outputs": [
    {
     "name": "stdout",
     "output_type": "stream",
     "text": [
      "Максимальное значение в массиве =  16\n",
      "Минимальное значение в массиве =  1\n",
      "Сумма элементов массива =  31\n"
     ]
    }
   ],
   "source": [
    "# Агрегирование в одномерном массиве\n",
    "print(\"Максимальное значение в массиве = \", a1.max())\n",
    "print(\"Минимальное значение в массиве = \", a1.min())\n",
    "print(\"Сумма элементов массива = \", a1.sum())"
   ],
   "metadata": {
    "collapsed": false,
    "pycharm": {
     "name": "#%%\n"
    }
   }
  },
  {
   "cell_type": "code",
   "execution_count": 46,
   "outputs": [
    {
     "name": "stdout",
     "output_type": "stream",
     "text": [
      "[[1 2 3]\n",
      " [4 5 6]]\n",
      "[[0. 0. 0.]\n",
      " [0. 0. 0.]]\n",
      "[[1. 1. 1.]\n",
      " [1. 1. 1.]]\n",
      "[[3 3 3]\n",
      " [3 3 3]]\n",
      "[[0.7962878  0.585169   0.02301758]\n",
      " [0.57898035 0.09802254 0.50732864]]\n"
     ]
    }
   ],
   "source": [
    "# Создание двумерного массива (n, m)\n",
    "# n - количество строк, m - количество столбцов\n",
    "\n",
    "# С указанием значения\n",
    "a = np.array([[1, 2, 3], [4, 5, 6]])\n",
    "print(a)\n",
    "\n",
    "# С указанием длины и заполненного нулями\n",
    "aZero = np.zeros((2, 3))\n",
    "print(aZero)\n",
    "\n",
    "# С указанием длины и заполненного единицами\n",
    "aOne = np.ones((2, 3))\n",
    "print(aOne)\n",
    "\n",
    "# С указанием длины и заданным значением\n",
    "aOne = np.full((2, 3), 3)\n",
    "print(aOne)\n",
    "\n",
    "# С указанием длины и заполненного случайными значениями\n",
    "aRandom = np.random.random((2, 3))\n",
    "print(aRandom)"
   ],
   "metadata": {
    "collapsed": false,
    "pycharm": {
     "name": "#%%\n"
    }
   }
  },
  {
   "cell_type": "code",
   "execution_count": 33,
   "outputs": [
    {
     "name": "stdout",
     "output_type": "stream",
     "text": [
      "Сумма массивов  [[9 3]\n",
      " [9 4]]  и  [[1 9]\n",
      " [8 5]]  =  [[10 12]\n",
      " [17  9]]\n",
      "Сумма массивов  [[9 3]\n",
      " [9 4]]  и  [0 9]  =  [[ 9 12]\n",
      " [ 9 13]]\n",
      "Разница массивов  [[9 3]\n",
      " [9 4]]  и  [[1 9]\n",
      " [8 5]]  =  [[ 8 -6]\n",
      " [ 1 -1]]\n",
      "Разница массивов  [[9 3]\n",
      " [9 4]]  и  [0 9]  =  [[ 9 -6]\n",
      " [ 9 -5]]\n",
      "Скалярное произведение  [[9 3]\n",
      " [9 4]]  и  [[1 9 0]\n",
      " [7 5 9]]  =  [[ 30  96  27]\n",
      " [ 37 101  36]]\n"
     ]
    }
   ],
   "source": [
    "# Арифметические операции с двумерными массивами массивом\n",
    "a1 = np.random.randint(low=0, high=10, size=(2, 2))\n",
    "a2 = np.random.randint(low=0, high=10, size=(2, 2))\n",
    "a3 = np.random.randint(low=0, high=10, size=2)\n",
    "a4 = np.random.randint(low=0, high=10, size=3)\n",
    "a5 = np.random.randint(low=0, high=10, size=(2, 3))\n",
    "\n",
    "# Сложение двух массивов одинаковой размерности\n",
    "aAddition1 = a1 + a2\n",
    "print(\"Сумма массивов \", a1, \" и \", a2, \" = \", aAddition1)\n",
    "\n",
    "# Сложение двумерного массива с одномерным массивом одинаковой по ширине или длине размерности\n",
    "aAddition2 = a1 + a3\n",
    "print(\"Сумма массивов \", a1, \" и \", a3, \" = \", aAddition2)\n",
    "\n",
    "# Разница двух массивов одинаковой размерности\n",
    "aSubtraction1 = a1 - a2\n",
    "print(\"Разница массивов \", a1, \" и \", a2, \" = \", aSubtraction1)\n",
    "\n",
    "# Разница двумерного массива и одномерного массива одинаковой по ширине или длине размерности\n",
    "aSubtraction2 = a1 - a3\n",
    "print(\"Разница массивов \", a1, \" и \", a3, \" = \", aSubtraction2)\n",
    "\n",
    "# Скалярное произведение\n",
    "scalar = a1.dot(a5)\n",
    "print(\"Скалярное произведение \", a1, \" и \", a5, \" = \", scalar)"
   ],
   "metadata": {
    "collapsed": false,
    "pycharm": {
     "name": "#%%\n"
    }
   }
  },
  {
   "cell_type": "code",
   "execution_count": 34,
   "outputs": [
    {
     "name": "stdout",
     "output_type": "stream",
     "text": [
      "[[1 4 6 0 6]\n",
      " [6 2 8 0 2]]\n",
      "[[1 6]\n",
      " [4 2]\n",
      " [6 8]\n",
      " [0 0]\n",
      " [6 2]]\n"
     ]
    }
   ],
   "source": [
    "# Транспонирование матрицы\n",
    "a1 = np.random.randint(low=0, high=10, size=(2, 5))\n",
    "print(a1)\n",
    "print(a1.T)"
   ],
   "metadata": {
    "collapsed": false,
    "pycharm": {
     "name": "#%%\n"
    }
   }
  },
  {
   "cell_type": "code",
   "execution_count": 36,
   "outputs": [
    {
     "name": "stdout",
     "output_type": "stream",
     "text": [
      "[[8 3 9 1]\n",
      " [4 5 7 9]]\n",
      "9\n",
      "[8 5 9 9]\n",
      "[9 9]\n",
      "1\n",
      "[4 3 7 1]\n",
      "[1 4]\n",
      "46\n",
      "[12  8 16 10]\n",
      "[21 25]\n"
     ]
    }
   ],
   "source": [
    "# Агрегирование двумерных матриц\n",
    "a1 = np.random.randint(low=0, high=10, size=(2, 4))\n",
    "print(a1)\n",
    "print(a1.max())\n",
    "print(a1.max(axis=0))\n",
    "print(a1.max(axis=1))\n",
    "print(a1.min())\n",
    "print(a1.min(axis=0))\n",
    "print(a1.min(axis=1))\n",
    "print(a1.sum())\n",
    "print(a1.sum(axis=0))\n",
    "print(a1.sum(axis=1))"
   ],
   "metadata": {
    "collapsed": false,
    "pycharm": {
     "name": "#%%\n"
    }
   }
  },
  {
   "cell_type": "code",
   "execution_count": 41,
   "outputs": [
    {
     "name": "stdout",
     "output_type": "stream",
     "text": [
      "int32\n",
      "10\n",
      "2\n",
      "(2, 5)\n"
     ]
    }
   ],
   "source": [
    "# Методы матрицы\n",
    "a = np.random.randint(low=0, high=10, size=(2, 5))\n",
    "\n",
    "# Тип данных\n",
    "print(a.dtype)\n",
    "\n",
    "# Количество элементов матрицы\n",
    "print(a.size)\n",
    "\n",
    "# Размерность матрицы\n",
    "print(a.ndim)\n",
    "\n",
    "# Размеры матрицы\n",
    "print(a.shape)"
   ],
   "metadata": {
    "collapsed": false,
    "pycharm": {
     "name": "#%%\n"
    }
   }
  }
 ],
 "metadata": {
  "kernelspec": {
   "display_name": "Python 3",
   "language": "python",
   "name": "python3"
  },
  "language_info": {
   "codemirror_mode": {
    "name": "ipython",
    "version": 2
   },
   "file_extension": ".py",
   "mimetype": "text/x-python",
   "name": "python",
   "nbconvert_exporter": "python",
   "pygments_lexer": "ipython2",
   "version": "2.7.6"
  }
 },
 "nbformat": 4,
 "nbformat_minor": 0
}